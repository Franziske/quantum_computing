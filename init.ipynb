{
 "cells": [
  {
   "cell_type": "markdown",
   "id": "cb8d78a7-8437-4417-af59-bf6555bfa40a",
   "metadata": {},
   "source": [
    "# setup delle librerie"
   ]
  },
  {
   "cell_type": "code",
   "execution_count": 1,
   "id": "add02676-e0bd-4334-96c5-3daecf891c59",
   "metadata": {},
   "outputs": [],
   "source": [
    "import numpy\n",
    "import qiskit"
   ]
  },
  {
   "cell_type": "code",
   "execution_count": null,
   "id": "8b23fe46-2299-463c-a509-d2aed8a29432",
   "metadata": {},
   "outputs": [],
   "source": []
  }
 ],
 "metadata": {
  "kernelspec": {
   "display_name": "Python 3 (ipykernel)",
   "language": "python",
   "name": "python3"
  },
  "language_info": {
   "codemirror_mode": {
    "name": "ipython",
    "version": 3
   },
   "file_extension": ".py",
   "mimetype": "text/x-python",
   "name": "python",
   "nbconvert_exporter": "python",
   "pygments_lexer": "ipython3",
   "version": "3.8.10"
  }
 },
 "nbformat": 4,
 "nbformat_minor": 5
}
